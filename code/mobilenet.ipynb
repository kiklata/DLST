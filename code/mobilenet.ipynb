{
 "cells": [
  {
   "cell_type": "code",
   "execution_count": null,
   "metadata": {},
   "outputs": [],
   "source": [
    "from tensorflow import keras\n",
    "from tensorflow.keras.preprocessing import image\n",
    "from tensorflow.keras.models import Model\n",
    "from tensorflow.keras import layers\n",
    "import numpy as np\n",
    "from keras.callbacks import TensorBoard"
   ]
  },
  {
   "cell_type": "code",
   "execution_count": null,
   "metadata": {},
   "outputs": [],
   "source": [
    "input_tensor = layers.Input(shape=(224, 224, 3))\n",
    "base_model = keras.applications.MobileNetV2(input_tensor=input_tensor,weights='imagenet',include_top=False) \n",
    "x = base_model.output\n",
    "for layer in base_model.layers:\n",
    "    layer.trainable = False\n",
    "x = layers.GlobalAveragePooling2D()(x)\n",
    "x = layers.Dropout(0.6)(x)\n",
    "x = layers.Dense(1024, activation='relu')(x)\n",
    "x = layers.Dense(1024, activation='relu')(x)\n",
    "predictions = layers.Dense(2, activation='softmax')(x)\n",
    "model = Model(inputs=base_model.input, outputs=predictions)\n",
    "model.compile(optimizer='adam', loss='categorical_crossentropy',metrics='accuracy')"
   ]
  },
  {
   "cell_type": "code",
   "execution_count": null,
   "metadata": {},
   "outputs": [],
   "source": [
    "img_datagen = image.ImageDataGenerator(rescale=1./255,validation_split = 0.2)\n",
    "train_ds = img_datagen.flow_from_directory(\n",
    "    directory='d:/bioinfo/DLSPseq/ref_information/train_Data/train/',\n",
    "    class_mode='categorical',\n",
    "    batch_size=32,\n",
    "    target_size=(224, 224),\n",
    "    subset = 'training')\n",
    "validation_ds = img_datagen.flow_from_directory(\n",
    "    directory='d:/bioinfo/DLSPseq/ref_information/train_Data/train/',\n",
    "    class_mode='categorical',\n",
    "    batch_size=32,\n",
    "    target_size=(224, 224),\n",
    "    subset = 'validation')\n"
   ]
  },
  {
   "cell_type": "code",
   "execution_count": null,
   "metadata": {},
   "outputs": [],
   "source": [
    "callbacks = TensorBoard(log_dir='d:/bioinfo/DLSPseq/result/epoch100',histogram_freq=1,embeddings_freq=1, profile_batch=5)\n",
    "model.fit(train_ds, epochs=100, steps_per_epoch = train_ds.n/train_ds.batch_size, validation_data=validation_ds,callbacks=[callbacks])"
   ]
  },
  {
   "cell_type": "code",
   "execution_count": null,
   "metadata": {},
   "outputs": [],
   "source": [
    "model_path = \"D:/bioinfo/DLSPseq/data/V2_2_normal_epoch16/\"\n",
    "model = keras.models.load_model(model_path)\n",
    "model = Model(inputs = model.input,outputs = model.get_layer('global_average_pooling2d_1').output)\n",
    "img_path = \"D:/bioinfo/DLSPseq/data/norm_img/test1000/TCGA-OL-A5RW-01Z-00-DX1/8801_27201.jpg\"\n",
    "img = image.load_img(img_path,target_size = (224,224))\n",
    "x = image.img_to_array(img)\n",
    "x = np.expand_dims(x, axis=0)\n",
    "x = preprocess_input(x)\n",
    "features = model.predict(x)"
   ]
  }
 ],
 "metadata": {
  "interpreter": {
   "hash": "e8afdc6fadd574973f08bd1d1976d992500827351367db5c93dc2e085c20d200"
  },
  "kernelspec": {
   "display_name": "Python 3.9.0 ('renv')",
   "language": "python",
   "name": "python3"
  },
  "language_info": {
   "codemirror_mode": {
    "name": "ipython",
    "version": 3
   },
   "file_extension": ".py",
   "mimetype": "text/x-python",
   "name": "python",
   "nbconvert_exporter": "python",
   "pygments_lexer": "ipython3",
   "version": "3.9.0"
  },
  "orig_nbformat": 4
 },
 "nbformat": 4,
 "nbformat_minor": 2
}
